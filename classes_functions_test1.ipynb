{
 "cells": [
  {
   "cell_type": "code",
   "execution_count": 40,
   "metadata": {},
   "outputs": [
    {
     "name": "stdout",
     "output_type": "stream",
     "text": [
      "Machine Learning\n",
      "Neural Networks\n",
      "Vision\n",
      "Robotics\n",
      "Speech Processing\n",
      "Natural Language Processing\n",
      "Odd\n",
      "Eligible for Marriage\n",
      "Percentage Calculation:\n",
      "Your percentage is 93.833333333333329%\n",
      "Area of the rectangle: 64.0\n",
      "Perimeter of the rectangle: 10\n"
     ]
    }
   ],
   "source": [
    "import importlib\n",
    "import classes_functions_code  # Import the module\n",
    "\n",
    "# Reload the module to ensure updated code is loaded\n",
    "importlib.reload(classes_functions_code)\n",
    "\n",
    "from classes_functions_code import ClassesFunctions\n",
    "\n",
    "# Create an instance of the class\n",
    "cf = ClassesFunctions()\n",
    "\n",
    "# Call the subfields method\n",
    "cf.subfields()\n",
    "\n",
    "# Call the odd_even method\n",
    "result = cf.odd_even(25)\n",
    "print(result)  # This should print \"Odd\"\n",
    "\n",
    "# call the marriage Eligibility method\n",
    "result = cf.eligibility(25, \"female\")\n",
    "print(result)  # This should print \"You are eligible for marriage\"\n",
    "\n",
    "marks = [98, 87, 95, 95, 95, 93]\n",
    "marks_got = sum(marks)\n",
    "total_marks = 600\n",
    "\n",
    "# Call the percentage method\n",
    "re = cf.percentage(marks_got, total_marks)\n",
    "print(\"Percentage Calculation:\")\n",
    "print(f\"Your percentage is {re:.15f}%\")\n",
    "\n",
    "height = 32\n",
    "breadth = 34\n",
    "height1 = 2\n",
    "height2 = 4\n",
    "breadth = 4\n",
    "\n",
    "# Call the area method\n",
    "area = cf.area(height, breadth)\n",
    "print(f\"Area of the rectangle: {area}\")\n",
    "\n",
    "#call perimeter method\n",
    "perimeter_result = cf.perimeter(height1, height2, breadth)\n",
    "print(f\"Perimeter of the rectangle: {perimeter_result}\")\n"
   ]
  }
 ],
 "metadata": {
  "kernelspec": {
   "display_name": "Python 3",
   "language": "python",
   "name": "python3"
  },
  "language_info": {
   "codemirror_mode": {
    "name": "ipython",
    "version": 3
   },
   "file_extension": ".py",
   "mimetype": "text/x-python",
   "name": "python",
   "nbconvert_exporter": "python",
   "pygments_lexer": "ipython3",
   "version": "3.10.0"
  }
 },
 "nbformat": 4,
 "nbformat_minor": 2
}
