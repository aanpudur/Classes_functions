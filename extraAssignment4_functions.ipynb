{
 "cells": [
  {
   "cell_type": "markdown",
   "metadata": {},
   "source": [
    "Create a class and function, and list out the items in the listIn [6]: # Create a class and function, and list out the items in the list\n",
    "SubfieldsInAI.Subfields()\n",
    "\n",
    "Sub-fields in AI are:\n",
    "Machine Learning\n",
    "Neural Networks\n",
    "Vision\n",
    "Robotics\n",
    "Speech Processing\n",
    "Natural Language Processing"
   ]
  },
  {
   "cell_type": "code",
   "execution_count": 2,
   "metadata": {},
   "outputs": [
    {
     "name": "stdout",
     "output_type": "stream",
     "text": [
      "AI Subfields:\n",
      "Machine Learning\n",
      "Neural Networks\n",
      "Vision\n",
      "Robotics\n",
      "Speech Processing\n",
      "Natural Language Processing\n"
     ]
    }
   ],
   "source": [
    "class SubfiledsInAI:\n",
    "\n",
    "    ai_subfields = [\n",
    "        \"Machine Learning\",\n",
    "        \"Neural Networks\",\n",
    "        \"Vision\",\n",
    "        \"Robotics\",\n",
    "        \"Speech Processing\",\n",
    "        \"Natural Language Processing\"\n",
    "    ]\n",
    "\n",
    "    def subfields(self):\n",
    "        for subfield in self.ai_subfields:\n",
    "            print(subfield)\n",
    "\n",
    "print(\"AI Subfields:\")\n",
    "subfields_class = SubfiledsInAI()\n",
    "subfields_class.subfields()"
   ]
  },
  {
   "cell_type": "markdown",
   "metadata": {},
   "source": [
    "In [17]: # Create a function that checks whether the given number is Odd or Even\n",
    "In [18]: OddEven.OddEven()\n",
    "Enter a number: 52452\n",
    "52452 is Even number"
   ]
  },
  {
   "cell_type": "code",
   "execution_count": 3,
   "metadata": {},
   "outputs": [
    {
     "name": "stdout",
     "output_type": "stream",
     "text": [
      "52452 is Even number\n"
     ]
    }
   ],
   "source": [
    "class OddEven:\n",
    "    def odd_even(number):\n",
    "        if number % 2 == 0:\n",
    "            msg = \"Even\"\n",
    "            return msg\n",
    "    \n",
    "    user_input = int(input(\"Enter a number: \"))\n",
    "    result = odd_even(user_input)\n",
    "    print(f\"{user_input} is {result} number\")"
   ]
  },
  {
   "cell_type": "markdown",
   "metadata": {},
   "source": [
    "# Create a function that tells elegibility of marriage for male and female according to their age limit like 21 for male and 18 for female\n",
    "In [11]: ElegiblityForMarriage.Elegible()\n",
    "Your Gender:Male\n",
    "Your Age:20\n",
    "NOT ELIGIBLE"
   ]
  },
  {
   "cell_type": "code",
   "execution_count": 6,
   "metadata": {},
   "outputs": [
    {
     "name": "stdout",
     "output_type": "stream",
     "text": [
      "You are Not Eligible for Marriage\n"
     ]
    }
   ],
   "source": [
    "class EligibilityForMarriage:\n",
    "    def eligibility(age, sex):\n",
    "        if (age >= 21 and sex.lower() =='male') or (age >=18 and sex.lower() ==\"female\"):\n",
    "            eligibility = \"Eligible for Marriage\"\n",
    "            return eligibility\n",
    "        else:\n",
    "            eligibility = \"Not Eligible for Marriage\"\n",
    "            return eligibility\n",
    "\n",
    "\n",
    "user_age = int(input(\"Enter your age: \"))\n",
    "user_sex = input(\"Enter your sex: Male or Female: \")\n",
    "result = EligibilityForMarriage.eligibility(user_age, user_sex)\n",
    "print(f\"You are {result}\")\n",
    "           \n",
    "\n"
   ]
  },
  {
   "cell_type": "markdown",
   "metadata": {},
   "source": [
    "# calculate the percentage of your 10th mark\n",
    "In [13]: FindPercent.percentage()\n",
    "Subject1= 98\n",
    "Subject2= 87\n",
    "Subject3= 95\n",
    "Subject4= 95\n",
    "Subject5= 93\n",
    "Total : 468\n",
    "Percentage : 93.60000000000001\n",
    "\n",
    "formula\n",
    "Percentage = (Total Marks Obtained / Total Marks Possible) × 100"
   ]
  },
  {
   "cell_type": "code",
   "execution_count": 12,
   "metadata": {},
   "outputs": [
    {
     "name": "stdout",
     "output_type": "stream",
     "text": [
      "Percentage Calculation:\n",
      "Your percentage is 93.833333333333329%\n"
     ]
    }
   ],
   "source": [
    "class FindPercentage:\n",
    "\n",
    "    def percentage(marks_got, total_marks):\n",
    "        percentage = (marks_got / total_marks) * 100\n",
    "        return percentage\n",
    "    \n",
    "marks = [98, 87, 95, 95, 95, 93]\n",
    "marks_got = sum(marks)\n",
    "total_marks = 600\n",
    "\n",
    "result =float(FindPercentage.percentage(marks_got, total_marks))\n",
    "\n",
    "print(\"Percentage Calculation:\")\n",
    "print(f\"Your percentage is {result:.15f}%\")\n",
    "\n",
    "\n",
    "\n",
    "\n",
    "\n",
    "                \n",
    "\n",
    "  "
   ]
  },
  {
   "cell_type": "markdown",
   "metadata": {},
   "source": [
    "#print area and perimeter of triangle using class and functions\n",
    " triangle.triangle()\n",
    "Height:32\n",
    "Breadth:34\n",
    "Area formula: (Height*Breadth)/2\n",
    "Area of Triangle: 544.0\n",
    "Height1:2\n",
    "Height2:4\n",
    "Breadth:4\n",
    "Perimeter formula: Height1+"
   ]
  },
  {
   "cell_type": "code",
   "execution_count": null,
   "metadata": {},
   "outputs": [],
   "source": [
    "\"\"\" Height:32\n",
    "Breadth:34\n",
    "Area formula: (Height*Breadth)/2\n",
    "\n",
    "Area of Triangle: 544.0\n",
    "Height1:2\n",
    "Height2:4\n",
    "Breadth:4\n",
    "Perimeter formula: Height1+\"\"\"\n",
    "\n",
    "class AreaOfTriangle:\n",
    "    def area(height, breadth):\n",
    "        area = (height * breadth) / 2\n",
    "        return area\n",
    "    \n",
    "    def perimeter(height1, height2, breadth):\n",
    "        perimeter = height1 + height2 + breadth\n",
    "        return perimeter\n"
   ]
  },
  {
   "cell_type": "code",
   "execution_count": 13,
   "metadata": {},
   "outputs": [
    {
     "ename": "NameError",
     "evalue": "name 'AreaOfTriangle' is not defined",
     "output_type": "error",
     "traceback": [
      "\u001b[0;31m---------------------------------------------------------------------------\u001b[0m",
      "\u001b[0;31mNameError\u001b[0m                                 Traceback (most recent call last)",
      "Cell \u001b[0;32mIn[13], line 7\u001b[0m\n\u001b[1;32m      4\u001b[0m height2 \u001b[38;5;241m=\u001b[39m \u001b[38;5;241m4\u001b[39m\n\u001b[1;32m      5\u001b[0m breadth \u001b[38;5;241m=\u001b[39m \u001b[38;5;241m4\u001b[39m\n\u001b[0;32m----> 7\u001b[0m result_area \u001b[38;5;241m=\u001b[39m \u001b[43mAreaOfTriangle\u001b[49m\u001b[38;5;241m.\u001b[39marea(height, breadth)\n\u001b[1;32m      8\u001b[0m area_of_triangle \u001b[38;5;241m=\u001b[39m AreaOfTriangle\u001b[38;5;241m.\u001b[39mperimeter(\u001b[38;5;241m2\u001b[39m, \u001b[38;5;241m4\u001b[39m, \u001b[38;5;241m4\u001b[39m)\n\u001b[1;32m      9\u001b[0m \u001b[38;5;28mprint\u001b[39m(\u001b[38;5;124mf\u001b[39m\u001b[38;5;124m\"\u001b[39m\u001b[38;5;124marea \u001b[39m\u001b[38;5;132;01m{\u001b[39;00mresult_area\u001b[38;5;132;01m}\u001b[39;00m\u001b[38;5;124m\"\u001b[39m)\n",
      "\u001b[0;31mNameError\u001b[0m: name 'AreaOfTriangle' is not defined"
     ]
    }
   ],
   "source": [
    "height = 32\n",
    "breadth = 34\n",
    "height1 = 2\n",
    "height2 = 4\n",
    "breadth = 4\n",
    "\n",
    "result_area = AreaOfTriangle.area(height, breadth)\n",
    "area_of_triangle = AreaOfTriangle.perimeter(2, 4, 4)\n",
    "print(f\"area {result_area}\")\n",
    "print(\"Perimeter of Triangle:\")\n",
    "print(area_of_triangle)\n"
   ]
  }
 ],
 "metadata": {
  "kernelspec": {
   "display_name": "Python 3",
   "language": "python",
   "name": "python3"
  },
  "language_info": {
   "codemirror_mode": {
    "name": "ipython",
    "version": 3
   },
   "file_extension": ".py",
   "mimetype": "text/x-python",
   "name": "python",
   "nbconvert_exporter": "python",
   "pygments_lexer": "ipython3",
   "version": "3.13.1"
  }
 },
 "nbformat": 4,
 "nbformat_minor": 2
}
