{
 "cells": [
  {
   "cell_type": "code",
   "execution_count": null,
   "metadata": {},
   "outputs": [
    {
     "name": "stdout",
     "output_type": "stream",
     "text": [
      "Machine Learning\n",
      "Neural Networks\n",
      "Vision\n",
      "Robotics\n",
      "Speech Processing\n",
      "Natural Language Processing\n",
      "Odd\n",
      "Eligible for Marriage\n"
     ]
    },
    {
     "ename": "AttributeError",
     "evalue": "'ClassesFunctions' object has no attribute 'percentage'",
     "output_type": "error",
     "traceback": [
      "\u001b[0;31m---------------------------------------------------------------------------\u001b[0m",
      "\u001b[0;31mAttributeError\u001b[0m                            Traceback (most recent call last)",
      "Cell \u001b[0;32mIn[28], line 27\u001b[0m\n\u001b[1;32m     24\u001b[0m marks_got \u001b[38;5;241m=\u001b[39m \u001b[38;5;28msum\u001b[39m(marks)\n\u001b[1;32m     25\u001b[0m total_marks \u001b[38;5;241m=\u001b[39m \u001b[38;5;241m600\u001b[39m\n\u001b[0;32m---> 27\u001b[0m percentage \u001b[38;5;241m=\u001b[39m \u001b[38;5;28mfloat\u001b[39m(\u001b[43mcf\u001b[49m\u001b[38;5;241;43m.\u001b[39;49m\u001b[43mpercentage\u001b[49m(marks_got, total_marks))\n\u001b[1;32m     28\u001b[0m result \u001b[38;5;241m=\u001b[39m\u001b[38;5;28mfloat\u001b[39m(FindPercentage\u001b[38;5;241m.\u001b[39mpercentage(marks_got, total_marks))\n\u001b[1;32m     29\u001b[0m \u001b[38;5;28mprint\u001b[39m(\u001b[38;5;124m\"\u001b[39m\u001b[38;5;124mPercentage Calculation:\u001b[39m\u001b[38;5;124m\"\u001b[39m)\n",
      "\u001b[0;31mAttributeError\u001b[0m: 'ClassesFunctions' object has no attribute 'percentage'"
     ]
    }
   ],
   "source": [
    "import importlib\n",
    "import classes_functions_code  # Import the module\n",
    "\n",
    "# Reload the module to ensure updated code is loaded\n",
    "importlib.reload(classes_functions_code)\n",
    "\n",
    "from classes_functions_code import ClassesFunctions\n",
    "\n",
    "# Create an instance of the class\n",
    "cf = ClassesFunctions()\n",
    "\n",
    "# Call the subfields method\n",
    "cf.subfields()\n",
    "\n",
    "# Call the odd_even method\n",
    "result = cf.odd_even(25)\n",
    "print(result)  # This should print \"Odd\"\n",
    "\n",
    "# call the marriage Eligibility method\n",
    "result = cf.eligibility(25, \"female\")\n",
    "print(result)  # This should print \"You are eligible for marriage\"\n",
    "\n",
    "marks = [98, 87, 95, 95, 95, 93]\n",
    "marks_got = sum(marks)\n",
    "total_marks = 600\n",
    "\n",
    "percentage = cf.percentage(marks_got, total_marks)\n",
    "result =float(FindPercentage.percentage(marks_got, total_marks))\n",
    "print(\"Percentage Calculation:\")\n",
    "print(f\"Your percentage is {result:.15f}%\")"
   ]
  }
 ],
 "metadata": {
  "kernelspec": {
   "display_name": "Python 3",
   "language": "python",
   "name": "python3"
  },
  "language_info": {
   "codemirror_mode": {
    "name": "ipython",
    "version": 3
   },
   "file_extension": ".py",
   "mimetype": "text/x-python",
   "name": "python",
   "nbconvert_exporter": "python",
   "pygments_lexer": "ipython3",
   "version": "3.10.0"
  }
 },
 "nbformat": 4,
 "nbformat_minor": 2
}
